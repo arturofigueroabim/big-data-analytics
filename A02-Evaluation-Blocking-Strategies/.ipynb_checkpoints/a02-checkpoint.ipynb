{
 "cells": [
  {
   "cell_type": "code",
   "execution_count": 49,
   "metadata": {},
   "outputs": [],
   "source": [
    "import pandas as pd\n",
    "import numpy as np\n",
    "\n",
    "#df = pd.read_csv('dblp_names.csv', header = None)\n",
    "\n",
    "#df = pd.read_csv('dblp_names.csv', verbose =True , warn_bad_lines = False, error_bad_lines=False, header = None)\n",
    "\n",
    "df = pd.read_csv('dblp_names.csv',error_bad_lines=False, warn_bad_lines=False)\n",
    "\n",
    "#print(df.to_string()) \n",
    "\n"
   ]
  },
  {
   "cell_type": "code",
   "execution_count": 50,
   "metadata": {},
   "outputs": [
    {
     "data": {
      "text/html": [
       "<div>\n",
       "<style scoped>\n",
       "    .dataframe tbody tr th:only-of-type {\n",
       "        vertical-align: middle;\n",
       "    }\n",
       "\n",
       "    .dataframe tbody tr th {\n",
       "        vertical-align: top;\n",
       "    }\n",
       "\n",
       "    .dataframe thead th {\n",
       "        text-align: right;\n",
       "    }\n",
       "</style>\n",
       "<table border=\"1\" class=\"dataframe\">\n",
       "  <thead>\n",
       "    <tr style=\"text-align: right;\">\n",
       "      <th></th>\n",
       "      <th># OLD_NAME</th>\n",
       "      <th>NEW_NAME</th>\n",
       "    </tr>\n",
       "  </thead>\n",
       "  <tbody>\n",
       "    <tr>\n",
       "      <th>0</th>\n",
       "      <td>Bamshad Mobasherm</td>\n",
       "      <td>Bamshad Mobasher</td>\n",
       "    </tr>\n",
       "    <tr>\n",
       "      <th>1</th>\n",
       "      <td>Carole Delporte-Gellet</td>\n",
       "      <td>Carole Delporte-Gallet</td>\n",
       "    </tr>\n",
       "    <tr>\n",
       "      <th>2</th>\n",
       "      <td>Ronald Presott Loui</td>\n",
       "      <td>Ronald Prescott Loui</td>\n",
       "    </tr>\n",
       "    <tr>\n",
       "      <th>3</th>\n",
       "      <td>Eve Riskin</td>\n",
       "      <td>Eve A. Riskin</td>\n",
       "    </tr>\n",
       "    <tr>\n",
       "      <th>4</th>\n",
       "      <td>Doouglas W. Clark</td>\n",
       "      <td>Douglas W. Clark</td>\n",
       "    </tr>\n",
       "    <tr>\n",
       "      <th>...</th>\n",
       "      <td>...</td>\n",
       "      <td>...</td>\n",
       "    </tr>\n",
       "    <tr>\n",
       "      <th>45151</th>\n",
       "      <td>Benny Lövstrom</td>\n",
       "      <td>Benny Lövström</td>\n",
       "    </tr>\n",
       "    <tr>\n",
       "      <th>45152</th>\n",
       "      <td>Sri Harish Mallidi</td>\n",
       "      <td>Sri Harish Reddy Mallidi</td>\n",
       "    </tr>\n",
       "    <tr>\n",
       "      <th>45153</th>\n",
       "      <td>F. Palluconi</td>\n",
       "      <td>Frank D. Palluconi</td>\n",
       "    </tr>\n",
       "    <tr>\n",
       "      <th>45154</th>\n",
       "      <td>María Carmen Suárez Figueroa</td>\n",
       "      <td>María del Carmen Suárez-Figueroa</td>\n",
       "    </tr>\n",
       "    <tr>\n",
       "      <th>45155</th>\n",
       "      <td>Ignacio Santamaria</td>\n",
       "      <td>Ignacio Santamaría</td>\n",
       "    </tr>\n",
       "  </tbody>\n",
       "</table>\n",
       "<p>45156 rows × 2 columns</p>\n",
       "</div>"
      ],
      "text/plain": [
       "                         # OLD_NAME                          NEW_NAME\n",
       "0                 Bamshad Mobasherm                  Bamshad Mobasher\n",
       "1            Carole Delporte-Gellet            Carole Delporte-Gallet\n",
       "2               Ronald Presott Loui              Ronald Prescott Loui\n",
       "3                        Eve Riskin                     Eve A. Riskin\n",
       "4                 Doouglas W. Clark                  Douglas W. Clark\n",
       "...                             ...                               ...\n",
       "45151                Benny Lövstrom                    Benny Lövström\n",
       "45152            Sri Harish Mallidi          Sri Harish Reddy Mallidi\n",
       "45153                  F. Palluconi                Frank D. Palluconi\n",
       "45154  María Carmen Suárez Figueroa  María del Carmen Suárez-Figueroa\n",
       "45155            Ignacio Santamaria                Ignacio Santamaría\n",
       "\n",
       "[45156 rows x 2 columns]"
      ]
     },
     "metadata": {},
     "output_type": "display_data"
    }
   ],
   "source": [
    "display(df)"
   ]
  },
  {
   "cell_type": "code",
   "execution_count": 58,
   "metadata": {},
   "outputs": [
    {
     "name": "stdout",
     "output_type": "stream",
     "text": [
      "2\n",
      "90312\n",
      "(45156, 2)\n"
     ]
    }
   ],
   "source": [
    "print(df.ndim)\n",
    "print(df.size)\n",
    "print(df.shape)"
   ]
  },
  {
   "cell_type": "code",
   "execution_count": 59,
   "metadata": {},
   "outputs": [
    {
     "data": {
      "text/plain": [
       "# OLD_NAME    Bamshad MobashermCarole Delporte-GelletRonald ...\n",
       " NEW_NAME     Bamshad MobasherCarole Delporte-GalletRonald P...\n",
       "dtype: object"
      ]
     },
     "execution_count": 59,
     "metadata": {},
     "output_type": "execute_result"
    }
   ],
   "source": [
    "df.sum()"
   ]
  },
  {
   "cell_type": "code",
   "execution_count": 60,
   "metadata": {},
   "outputs": [
    {
     "name": "stdout",
     "output_type": "stream",
     "text": [
      "# OLD_NAME\n",
      " NEW_NAME\n"
     ]
    }
   ],
   "source": [
    "for col in df:\n",
    "    print(col)"
   ]
  },
  {
   "cell_type": "code",
   "execution_count": null,
   "metadata": {},
   "outputs": [],
   "source": []
  }
 ],
 "metadata": {
  "kernelspec": {
   "display_name": "Python 3",
   "language": "python",
   "name": "python3"
  },
  "language_info": {
   "codemirror_mode": {
    "name": "ipython",
    "version": 3
   },
   "file_extension": ".py",
   "mimetype": "text/x-python",
   "name": "python",
   "nbconvert_exporter": "python",
   "pygments_lexer": "ipython3",
   "version": "3.8.3"
  }
 },
 "nbformat": 4,
 "nbformat_minor": 4
}
